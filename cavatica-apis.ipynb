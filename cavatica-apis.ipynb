{
 "cells": [
  {
   "cell_type": "code",
   "execution_count": 1,
   "metadata": {
    "collapsed": true,
    "deletable": true,
    "editable": true
   },
   "outputs": [],
   "source": [
    "import sevenbridges as sbg\n",
    "import yaml, json"
   ]
  },
  {
   "cell_type": "code",
   "execution_count": 2,
   "metadata": {
    "collapsed": true,
    "deletable": true,
    "editable": true
   },
   "outputs": [],
   "source": [
    "# create the api object \n",
    "config_yaml = '../data/config.yaml'\n",
    "base_url = 'https://cavatica-api.sbgenomics.com/v2/'\n",
    "\n",
    "with open(config_yaml, 'r') as y:\n",
    "    config = yaml.load(y)\n",
    "\n",
    "api = sbg.Api(url=base_url, token=config['token'])"
   ]
  },
  {
   "cell_type": "markdown",
   "metadata": {
    "deletable": true,
    "editable": true
   },
   "source": [
    "## upload cwl\n",
    "Require to get the whole workflow into one single JSON in advance\n",
    "\n",
    "`rabix --resolve-app workflow.cwl > workflow.json`"
   ]
  },
  {
   "cell_type": "code",
   "execution_count": 3,
   "metadata": {
    "collapsed": false,
    "deletable": true,
    "editable": true
   },
   "outputs": [
    {
     "data": {
      "text/plain": [
       "<App: id=yuankun/kf-workflow-test-run/kfdrc_alignment_pipeline_cavatica_api rev=0>"
      ]
     },
     "execution_count": 3,
     "metadata": {},
     "output_type": "execute_result"
    }
   ],
   "source": [
    "# app id\n",
    "# project = 'yuankun/kf-workflow-dev'\n",
    "project = 'yuankun/kf-workflow-test-run'\n",
    "app = 'kfdrc_alignment_pipeline_cavatica_api'\n",
    "app_id = '/'.join((project, app))\n",
    "\n",
    "# load cwl\n",
    "cwl = '../data/kfdrc_alignment_pipleine_cavatica_api.json'\n",
    "with open(cwl, 'r') as j:\n",
    "    raw = json.load(j)\n",
    "\n",
    "# get revision\n",
    "try:\n",
    "    app = api.apps.get(id=app_id)\n",
    "    app_id = app_id + '/' + str(app.revision + 1)\n",
    "except:\n",
    "    pass\n",
    "\n",
    "# install app\n",
    "api.apps.install_app(app_id, raw)"
   ]
  },
  {
   "cell_type": "markdown",
   "metadata": {},
   "source": [
    "## run task"
   ]
  },
  {
   "cell_type": "code",
   "execution_count": 27,
   "metadata": {
    "collapsed": false,
    "deletable": true,
    "editable": true
   },
   "outputs": [],
   "source": [
    "references = api.files.query(project='yuankun/kf-reference').all()\n",
    "input_id = '../data/reference-inputs-cavatica-2.json'\n",
    "with open(input_id, 'r') as j:\n",
    "    input_id = json.load(j)\n",
    "   \n",
    "inputs = {}\n",
    "inputs['knownsites'] = []\n",
    "\n",
    "for k in input_id.keys():\n",
    "    if (k=='knownsites'):\n",
    "        for i in input_id[k]:\n",
    "            inputs[k].append(api.files.get(id=i))\n",
    "    else:\n",
    "        inputs[k] = api.files.get(id=input_id[k])"
   ]
  },
  {
   "cell_type": "code",
   "execution_count": 28,
   "metadata": {
    "collapsed": false,
    "deletable": true,
    "editable": true
   },
   "outputs": [],
   "source": [
    "# run single task\n",
    "name = 'api-task-run ref-from-this-project'\n",
    "project = 'yuankun/kf-workflow-test-run'\n",
    "app = project + '/kfdrc_alignment_pipeline_cavatica_api'\n",
    "\n",
    "inputs['input_bam'] = api.files.get(id='5a466edc4f0c197e3614e33d') # sample.bam\n",
    "\n",
    "try:\n",
    "    task = api.tasks.create(\n",
    "        name=name,\n",
    "        project=project,\n",
    "        app=app,\n",
    "        inputs=inputs,\n",
    "        run=True)\n",
    "except:\n",
    "    print 'I was unable to run the task.'\n"
   ]
  },
  {
   "cell_type": "code",
   "execution_count": 35,
   "metadata": {
    "collapsed": false,
    "deletable": true,
    "editable": true
   },
   "outputs": [],
   "source": [
    "# batch tasks\n",
    "name = 'api-task-batch-run-3'\n",
    "project = 'yuankun/kf-workflow-test-run'\n",
    "app = project + '/kfdrc_alignment_pipeline_cavatica_api'\n",
    "            \n",
    "inputs['input_bam'] = api.files.query(project=project, tags='input_bam')\n",
    "batch_input = 'input_bam'\n",
    "batch_by = {'type': 'item'}\n",
    "\n",
    "try:\n",
    "    task = api.tasks.create(\n",
    "        name=name,\n",
    "        project=project,\n",
    "        app=app,\n",
    "        batch_input=batch_input,\n",
    "        batch_by=batch_by,\n",
    "        inputs=inputs,\n",
    "        run=True)\n",
    "except:\n",
    "    print 'I was unable to run the task.'"
   ]
  }
 ],
 "metadata": {
  "kernelspec": {
   "display_name": "Python 2",
   "language": "python",
   "name": "python2"
  },
  "language_info": {
   "codemirror_mode": {
    "name": "ipython",
    "version": 2
   },
   "file_extension": ".py",
   "mimetype": "text/x-python",
   "name": "python",
   "nbconvert_exporter": "python",
   "pygments_lexer": "ipython2",
   "version": "2.7.11"
  }
 },
 "nbformat": 4,
 "nbformat_minor": 2
}
